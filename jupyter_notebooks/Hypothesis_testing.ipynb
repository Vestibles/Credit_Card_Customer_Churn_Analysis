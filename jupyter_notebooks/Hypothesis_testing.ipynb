{
 "cells": [
  {
   "cell_type": "markdown",
   "id": "021e3843",
   "metadata": {},
   "source": [
    "#### **An outline of the Basic Statistical Methods tested**\n",
    "\n",
    "- T-test: Compares means of a continuous variable between two groups (e.g., churn vs. non-churn). Assumes normality; null hypothesis: means are equal.\n",
    "- Mann-Whitney U Test: Non-parametric alternative to t-test; compares distributions (ranks) between groups without assuming normality. Null: distributions are identical.\n",
    "- Cohen's d: Effect size measure for mean differences; d around 0.2=small, 0.5=medium, 0.8=large. Negative value indicates the first group's mean is lower.\n",
    "- Chi-square Test: Tests association between two categorical variables (e.g., income category vs. churn). Null: variables are independent. Uses a contingency table of counts; degrees of freedom (dof) = (rows-1)*(columns-1).\n",
    "- P-value: Probability of observing results (or more extreme) assuming null hypothesis is true. Low p (e.g., <0.05) suggests reject null (evidence of difference/association). Here, p=0.000000 indicates extremely strong evidence."
   ]
  },
  {
   "cell_type": "markdown",
   "id": "24d081f0",
   "metadata": {},
   "source": [
    "#### 1️⃣ Income Category vs. Churn\n",
    "Hypothesis:\n",
    "\n",
    "H₀: Income category is independent of churn status.\n",
    "\n",
    "H₁: Income category is associated with churn status."
   ]
  },
  {
   "cell_type": "code",
   "execution_count": null,
   "id": "75dc5456",
   "metadata": {},
   "outputs": [
    {
     "name": "stdout",
     "output_type": "stream",
     "text": [
      "Chi-square test for Income Category vs Churn\n",
      "Chi2 = 10.990, p = 0.026673, dof = 4\n",
      "Contingency Table:\n",
      "Attrition_Flag   Attrited Customer  Existing Customer\n",
      "Income_Category                                      \n",
      "$40K - $60K                    397               2120\n",
      "$60K - $80K                    189               1213\n",
      "$80K - $120K                   242               1293\n",
      "Less than $40K                 612               2949\n",
      "Unknown                        187                925\n"
     ]
    }
   ],
   "source": [
    "# --- Statistical Test ---\n",
    "import pandas as pd\n",
    "from scipy.stats import chi2_contingency\n",
    "import plotly.express as px\n",
    "\n",
    "# Load data\n",
    "\n",
    "try:\n",
    "    df = pd.read_csv(\"/mnt/data/cleaned_bank_churn.csv\")\n",
    "except FileNotFoundError:\n",
    "    df = pd.read_csv(\"../data/cleaned_bank_churn.csv\")  # code refactored to handle file not found error using Copilot\n",
    "\n",
    "# Recreate Income Category if one-hot encoded\n",
    "income_cols = [c for c in df.columns if c.startswith('Income_Category_')]\n",
    "if income_cols:\n",
    "    df['Income_Category'] = df[income_cols].idxmax(axis=1).str.replace('Income_Category_', '')\n",
    "\n",
    "# Map churn column\n",
    "df['Attrition_Flag'] = df['Churn'].map({1: 'Attrited Customer', 0: 'Existing Customer'})\n",
    "\n",
    "# Chi-square test\n",
    "cont_table = pd.crosstab(df['Income_Category'], df['Attrition_Flag'])\n",
    "chi2, p, dof, exp = chi2_contingency(cont_table)\n",
    "\n",
    "print(\"Chi-square test for Income Category vs Churn\")\n",
    "print(f\"Chi2 = {chi2:.3f}, p = {p:.6f}, dof = {dof}\")\n",
    "print(\"Contingency Table:\")\n",
    "print(cont_table)\n"
   ]
  },
  {
   "cell_type": "code",
   "execution_count": 3,
   "id": "598d8cae",
   "metadata": {},
   "outputs": [
    {
     "data": {
      "application/vnd.plotly.v1+json": {
       "config": {
        "plotlyServerURL": "https://plot.ly"
       },
       "data": [
        {
         "alignmentgroup": "True",
         "hovertemplate": "Attrition_Flag=Attrited Customer<br>Income_Category=%{x}<br>count=%{y}<extra></extra>",
         "legendgroup": "Attrited Customer",
         "marker": {
          "color": "#636efa",
          "pattern": {
           "shape": ""
          }
         },
         "name": "Attrited Customer",
         "offsetgroup": "Attrited Customer",
         "orientation": "v",
         "showlegend": true,
         "textposition": "auto",
         "type": "bar",
         "x": [
          "$40K - $60K",
          "$60K - $80K",
          "$80K - $120K",
          "Less than $40K",
          "Unknown"
         ],
         "xaxis": "x",
         "y": [
          397,
          189,
          242,
          612,
          187
         ],
         "yaxis": "y"
        },
        {
         "alignmentgroup": "True",
         "hovertemplate": "Attrition_Flag=Existing Customer<br>Income_Category=%{x}<br>count=%{y}<extra></extra>",
         "legendgroup": "Existing Customer",
         "marker": {
          "color": "#EF553B",
          "pattern": {
           "shape": ""
          }
         },
         "name": "Existing Customer",
         "offsetgroup": "Existing Customer",
         "orientation": "v",
         "showlegend": true,
         "textposition": "auto",
         "type": "bar",
         "x": [
          "$40K - $60K",
          "$60K - $80K",
          "$80K - $120K",
          "Less than $40K",
          "Unknown"
         ],
         "xaxis": "x",
         "y": [
          2120,
          1213,
          1293,
          2949,
          925
         ],
         "yaxis": "y"
        }
       ],
       "layout": {
        "barmode": "stack",
        "legend": {
         "title": {
          "text": "Attrition_Flag"
         },
         "tracegroupgap": 0
        },
        "template": {
         "data": {
          "bar": [
           {
            "error_x": {
             "color": "#2a3f5f"
            },
            "error_y": {
             "color": "#2a3f5f"
            },
            "marker": {
             "line": {
              "color": "#E5ECF6",
              "width": 0.5
             },
             "pattern": {
              "fillmode": "overlay",
              "size": 10,
              "solidity": 0.2
             }
            },
            "type": "bar"
           }
          ],
          "barpolar": [
           {
            "marker": {
             "line": {
              "color": "#E5ECF6",
              "width": 0.5
             },
             "pattern": {
              "fillmode": "overlay",
              "size": 10,
              "solidity": 0.2
             }
            },
            "type": "barpolar"
           }
          ],
          "carpet": [
           {
            "aaxis": {
             "endlinecolor": "#2a3f5f",
             "gridcolor": "white",
             "linecolor": "white",
             "minorgridcolor": "white",
             "startlinecolor": "#2a3f5f"
            },
            "baxis": {
             "endlinecolor": "#2a3f5f",
             "gridcolor": "white",
             "linecolor": "white",
             "minorgridcolor": "white",
             "startlinecolor": "#2a3f5f"
            },
            "type": "carpet"
           }
          ],
          "choropleth": [
           {
            "colorbar": {
             "outlinewidth": 0,
             "ticks": ""
            },
            "type": "choropleth"
           }
          ],
          "contour": [
           {
            "colorbar": {
             "outlinewidth": 0,
             "ticks": ""
            },
            "colorscale": [
             [
              0,
              "#0d0887"
             ],
             [
              0.1111111111111111,
              "#46039f"
             ],
             [
              0.2222222222222222,
              "#7201a8"
             ],
             [
              0.3333333333333333,
              "#9c179e"
             ],
             [
              0.4444444444444444,
              "#bd3786"
             ],
             [
              0.5555555555555556,
              "#d8576b"
             ],
             [
              0.6666666666666666,
              "#ed7953"
             ],
             [
              0.7777777777777778,
              "#fb9f3a"
             ],
             [
              0.8888888888888888,
              "#fdca26"
             ],
             [
              1,
              "#f0f921"
             ]
            ],
            "type": "contour"
           }
          ],
          "contourcarpet": [
           {
            "colorbar": {
             "outlinewidth": 0,
             "ticks": ""
            },
            "type": "contourcarpet"
           }
          ],
          "heatmap": [
           {
            "colorbar": {
             "outlinewidth": 0,
             "ticks": ""
            },
            "colorscale": [
             [
              0,
              "#0d0887"
             ],
             [
              0.1111111111111111,
              "#46039f"
             ],
             [
              0.2222222222222222,
              "#7201a8"
             ],
             [
              0.3333333333333333,
              "#9c179e"
             ],
             [
              0.4444444444444444,
              "#bd3786"
             ],
             [
              0.5555555555555556,
              "#d8576b"
             ],
             [
              0.6666666666666666,
              "#ed7953"
             ],
             [
              0.7777777777777778,
              "#fb9f3a"
             ],
             [
              0.8888888888888888,
              "#fdca26"
             ],
             [
              1,
              "#f0f921"
             ]
            ],
            "type": "heatmap"
           }
          ],
          "heatmapgl": [
           {
            "colorbar": {
             "outlinewidth": 0,
             "ticks": ""
            },
            "colorscale": [
             [
              0,
              "#0d0887"
             ],
             [
              0.1111111111111111,
              "#46039f"
             ],
             [
              0.2222222222222222,
              "#7201a8"
             ],
             [
              0.3333333333333333,
              "#9c179e"
             ],
             [
              0.4444444444444444,
              "#bd3786"
             ],
             [
              0.5555555555555556,
              "#d8576b"
             ],
             [
              0.6666666666666666,
              "#ed7953"
             ],
             [
              0.7777777777777778,
              "#fb9f3a"
             ],
             [
              0.8888888888888888,
              "#fdca26"
             ],
             [
              1,
              "#f0f921"
             ]
            ],
            "type": "heatmapgl"
           }
          ],
          "histogram": [
           {
            "marker": {
             "pattern": {
              "fillmode": "overlay",
              "size": 10,
              "solidity": 0.2
             }
            },
            "type": "histogram"
           }
          ],
          "histogram2d": [
           {
            "colorbar": {
             "outlinewidth": 0,
             "ticks": ""
            },
            "colorscale": [
             [
              0,
              "#0d0887"
             ],
             [
              0.1111111111111111,
              "#46039f"
             ],
             [
              0.2222222222222222,
              "#7201a8"
             ],
             [
              0.3333333333333333,
              "#9c179e"
             ],
             [
              0.4444444444444444,
              "#bd3786"
             ],
             [
              0.5555555555555556,
              "#d8576b"
             ],
             [
              0.6666666666666666,
              "#ed7953"
             ],
             [
              0.7777777777777778,
              "#fb9f3a"
             ],
             [
              0.8888888888888888,
              "#fdca26"
             ],
             [
              1,
              "#f0f921"
             ]
            ],
            "type": "histogram2d"
           }
          ],
          "histogram2dcontour": [
           {
            "colorbar": {
             "outlinewidth": 0,
             "ticks": ""
            },
            "colorscale": [
             [
              0,
              "#0d0887"
             ],
             [
              0.1111111111111111,
              "#46039f"
             ],
             [
              0.2222222222222222,
              "#7201a8"
             ],
             [
              0.3333333333333333,
              "#9c179e"
             ],
             [
              0.4444444444444444,
              "#bd3786"
             ],
             [
              0.5555555555555556,
              "#d8576b"
             ],
             [
              0.6666666666666666,
              "#ed7953"
             ],
             [
              0.7777777777777778,
              "#fb9f3a"
             ],
             [
              0.8888888888888888,
              "#fdca26"
             ],
             [
              1,
              "#f0f921"
             ]
            ],
            "type": "histogram2dcontour"
           }
          ],
          "mesh3d": [
           {
            "colorbar": {
             "outlinewidth": 0,
             "ticks": ""
            },
            "type": "mesh3d"
           }
          ],
          "parcoords": [
           {
            "line": {
             "colorbar": {
              "outlinewidth": 0,
              "ticks": ""
             }
            },
            "type": "parcoords"
           }
          ],
          "pie": [
           {
            "automargin": true,
            "type": "pie"
           }
          ],
          "scatter": [
           {
            "fillpattern": {
             "fillmode": "overlay",
             "size": 10,
             "solidity": 0.2
            },
            "type": "scatter"
           }
          ],
          "scatter3d": [
           {
            "line": {
             "colorbar": {
              "outlinewidth": 0,
              "ticks": ""
             }
            },
            "marker": {
             "colorbar": {
              "outlinewidth": 0,
              "ticks": ""
             }
            },
            "type": "scatter3d"
           }
          ],
          "scattercarpet": [
           {
            "marker": {
             "colorbar": {
              "outlinewidth": 0,
              "ticks": ""
             }
            },
            "type": "scattercarpet"
           }
          ],
          "scattergeo": [
           {
            "marker": {
             "colorbar": {
              "outlinewidth": 0,
              "ticks": ""
             }
            },
            "type": "scattergeo"
           }
          ],
          "scattergl": [
           {
            "marker": {
             "colorbar": {
              "outlinewidth": 0,
              "ticks": ""
             }
            },
            "type": "scattergl"
           }
          ],
          "scattermapbox": [
           {
            "marker": {
             "colorbar": {
              "outlinewidth": 0,
              "ticks": ""
             }
            },
            "type": "scattermapbox"
           }
          ],
          "scatterpolar": [
           {
            "marker": {
             "colorbar": {
              "outlinewidth": 0,
              "ticks": ""
             }
            },
            "type": "scatterpolar"
           }
          ],
          "scatterpolargl": [
           {
            "marker": {
             "colorbar": {
              "outlinewidth": 0,
              "ticks": ""
             }
            },
            "type": "scatterpolargl"
           }
          ],
          "scatterternary": [
           {
            "marker": {
             "colorbar": {
              "outlinewidth": 0,
              "ticks": ""
             }
            },
            "type": "scatterternary"
           }
          ],
          "surface": [
           {
            "colorbar": {
             "outlinewidth": 0,
             "ticks": ""
            },
            "colorscale": [
             [
              0,
              "#0d0887"
             ],
             [
              0.1111111111111111,
              "#46039f"
             ],
             [
              0.2222222222222222,
              "#7201a8"
             ],
             [
              0.3333333333333333,
              "#9c179e"
             ],
             [
              0.4444444444444444,
              "#bd3786"
             ],
             [
              0.5555555555555556,
              "#d8576b"
             ],
             [
              0.6666666666666666,
              "#ed7953"
             ],
             [
              0.7777777777777778,
              "#fb9f3a"
             ],
             [
              0.8888888888888888,
              "#fdca26"
             ],
             [
              1,
              "#f0f921"
             ]
            ],
            "type": "surface"
           }
          ],
          "table": [
           {
            "cells": {
             "fill": {
              "color": "#EBF0F8"
             },
             "line": {
              "color": "white"
             }
            },
            "header": {
             "fill": {
              "color": "#C8D4E3"
             },
             "line": {
              "color": "white"
             }
            },
            "type": "table"
           }
          ]
         },
         "layout": {
          "annotationdefaults": {
           "arrowcolor": "#2a3f5f",
           "arrowhead": 0,
           "arrowwidth": 1
          },
          "autotypenumbers": "strict",
          "coloraxis": {
           "colorbar": {
            "outlinewidth": 0,
            "ticks": ""
           }
          },
          "colorscale": {
           "diverging": [
            [
             0,
             "#8e0152"
            ],
            [
             0.1,
             "#c51b7d"
            ],
            [
             0.2,
             "#de77ae"
            ],
            [
             0.3,
             "#f1b6da"
            ],
            [
             0.4,
             "#fde0ef"
            ],
            [
             0.5,
             "#f7f7f7"
            ],
            [
             0.6,
             "#e6f5d0"
            ],
            [
             0.7,
             "#b8e186"
            ],
            [
             0.8,
             "#7fbc41"
            ],
            [
             0.9,
             "#4d9221"
            ],
            [
             1,
             "#276419"
            ]
           ],
           "sequential": [
            [
             0,
             "#0d0887"
            ],
            [
             0.1111111111111111,
             "#46039f"
            ],
            [
             0.2222222222222222,
             "#7201a8"
            ],
            [
             0.3333333333333333,
             "#9c179e"
            ],
            [
             0.4444444444444444,
             "#bd3786"
            ],
            [
             0.5555555555555556,
             "#d8576b"
            ],
            [
             0.6666666666666666,
             "#ed7953"
            ],
            [
             0.7777777777777778,
             "#fb9f3a"
            ],
            [
             0.8888888888888888,
             "#fdca26"
            ],
            [
             1,
             "#f0f921"
            ]
           ],
           "sequentialminus": [
            [
             0,
             "#0d0887"
            ],
            [
             0.1111111111111111,
             "#46039f"
            ],
            [
             0.2222222222222222,
             "#7201a8"
            ],
            [
             0.3333333333333333,
             "#9c179e"
            ],
            [
             0.4444444444444444,
             "#bd3786"
            ],
            [
             0.5555555555555556,
             "#d8576b"
            ],
            [
             0.6666666666666666,
             "#ed7953"
            ],
            [
             0.7777777777777778,
             "#fb9f3a"
            ],
            [
             0.8888888888888888,
             "#fdca26"
            ],
            [
             1,
             "#f0f921"
            ]
           ]
          },
          "colorway": [
           "#636efa",
           "#EF553B",
           "#00cc96",
           "#ab63fa",
           "#FFA15A",
           "#19d3f3",
           "#FF6692",
           "#B6E880",
           "#FF97FF",
           "#FECB52"
          ],
          "font": {
           "color": "#2a3f5f"
          },
          "geo": {
           "bgcolor": "white",
           "lakecolor": "white",
           "landcolor": "#E5ECF6",
           "showlakes": true,
           "showland": true,
           "subunitcolor": "white"
          },
          "hoverlabel": {
           "align": "left"
          },
          "hovermode": "closest",
          "mapbox": {
           "style": "light"
          },
          "paper_bgcolor": "white",
          "plot_bgcolor": "#E5ECF6",
          "polar": {
           "angularaxis": {
            "gridcolor": "white",
            "linecolor": "white",
            "ticks": ""
           },
           "bgcolor": "#E5ECF6",
           "radialaxis": {
            "gridcolor": "white",
            "linecolor": "white",
            "ticks": ""
           }
          },
          "scene": {
           "xaxis": {
            "backgroundcolor": "#E5ECF6",
            "gridcolor": "white",
            "gridwidth": 2,
            "linecolor": "white",
            "showbackground": true,
            "ticks": "",
            "zerolinecolor": "white"
           },
           "yaxis": {
            "backgroundcolor": "#E5ECF6",
            "gridcolor": "white",
            "gridwidth": 2,
            "linecolor": "white",
            "showbackground": true,
            "ticks": "",
            "zerolinecolor": "white"
           },
           "zaxis": {
            "backgroundcolor": "#E5ECF6",
            "gridcolor": "white",
            "gridwidth": 2,
            "linecolor": "white",
            "showbackground": true,
            "ticks": "",
            "zerolinecolor": "white"
           }
          },
          "shapedefaults": {
           "line": {
            "color": "#2a3f5f"
           }
          },
          "ternary": {
           "aaxis": {
            "gridcolor": "white",
            "linecolor": "white",
            "ticks": ""
           },
           "baxis": {
            "gridcolor": "white",
            "linecolor": "white",
            "ticks": ""
           },
           "bgcolor": "#E5ECF6",
           "caxis": {
            "gridcolor": "white",
            "linecolor": "white",
            "ticks": ""
           }
          },
          "title": {
           "x": 0.05
          },
          "xaxis": {
           "automargin": true,
           "gridcolor": "white",
           "linecolor": "white",
           "ticks": "",
           "title": {
            "standoff": 15
           },
           "zerolinecolor": "white",
           "zerolinewidth": 2
          },
          "yaxis": {
           "automargin": true,
           "gridcolor": "white",
           "linecolor": "white",
           "ticks": "",
           "title": {
            "standoff": 15
           },
           "zerolinecolor": "white",
           "zerolinewidth": 2
          }
         }
        },
        "title": {
         "text": "Churn by Income Category"
        },
        "xaxis": {
         "anchor": "y",
         "domain": [
          0,
          1
         ],
         "tickangle": -45,
         "title": {
          "text": "Income Category"
         }
        },
        "yaxis": {
         "anchor": "x",
         "domain": [
          0,
          1
         ],
         "title": {
          "text": "Customer Count"
         }
        }
       }
      }
     },
     "metadata": {},
     "output_type": "display_data"
    }
   ],
   "source": [
    "# --- Plotly Visual ---\n",
    "plot_df = df.groupby(['Income_Category','Attrition_Flag']).size().reset_index(name='count')\n",
    "fig = px.bar(plot_df, x='Income_Category', y='count', color='Attrition_Flag',\n",
    "             title='Churn by Income Category', barmode='stack')\n",
    "fig.update_layout(xaxis_title=\"Income Category\", yaxis_title=\"Customer Count\", xaxis_tickangle=-45)\n",
    "fig.show()\n"
   ]
  },
  {
   "cell_type": "code",
   "execution_count": null,
   "id": "221dfbc4",
   "metadata": {},
   "outputs": [],
   "source": [
    "# save plotly visual to outputs folder\n",
    "\n",
    "import os\n",
    "\n",
    "os.makedirs(\"data/outputs\", exist_ok=True)\n",
    "fig.write_html(\"data/outputs/income_category_vs_churn.html\")"
   ]
  },
  {
   "cell_type": "markdown",
   "id": "1d4dc015",
   "metadata": {},
   "source": [
    "#### 2️⃣ Total_Trans_Amt vs. Churn\n",
    "Hypothesis:\n",
    "\n",
    "H₀: Mean total transaction amount is the same for churned and retained customers.\n",
    "\n",
    "H₁: Mean total transaction amount differs between churned and retained customers"
   ]
  },
  {
   "cell_type": "code",
   "execution_count": 8,
   "id": "d04d34f1",
   "metadata": {},
   "outputs": [
    {
     "name": "stdout",
     "output_type": "stream",
     "text": [
      "T-test t=-22.686, p=0.000000\n",
      "Mann-Whitney p=0.000000\n",
      "Cohen's d = -0.466\n"
     ]
    }
   ],
   "source": [
    "# --- Statistical Test ---\n",
    "from scipy.stats import ttest_ind, mannwhitneyu\n",
    "import numpy as np\n",
    "\n",
    "col = 'Total_Trans_Amt'\n",
    "churned = df[df['Attrition_Flag']=='Attrited Customer'][col]\n",
    "retained = df[df['Attrition_Flag']=='Existing Customer'][col]\n",
    "\n",
    "# t-test (Welch) + Mann-Whitney\n",
    "t_stat, p_val = ttest_ind(churned, retained, equal_var=False)\n",
    "mw_stat, mw_p = mannwhitneyu(churned, retained, alternative='two-sided')\n",
    "\n",
    "# Cohen's d\n",
    "def cohens_d(x, y):\n",
    "    nx, ny = len(x), len(y)\n",
    "    pooled_std = np.sqrt(((nx-1)*np.std(x, ddof=1)**2 + (ny-1)*np.std(y, ddof=1)**2) / (nx+ny-2))\n",
    "    return (np.mean(x) - np.mean(y)) / pooled_std\n",
    "\n",
    "d = cohens_d(churned, retained)\n",
    "\n",
    "print(f\"T-test t={t_stat:.3f}, p={p_val:.6f}\")\n",
    "print(f\"Mann-Whitney p={mw_p:.6f}\")\n",
    "print(f\"Cohen's d = {d:.3f}\")\n"
   ]
  },
  {
   "cell_type": "code",
   "execution_count": 9,
   "id": "80f25262",
   "metadata": {},
   "outputs": [
    {
     "data": {
      "image/png": "[encoded data removed]",
      "text/plain": [
       "<Figure size 640x480 with 1 Axes>"
      ]
     },
     "metadata": {},
     "output_type": "display_data"
    }
   ],
   "source": [
    "# --- Matplotlib Visual ---\n",
    "import matplotlib.pyplot as plt\n",
    "\n",
    "plt.boxplot([churned, retained], labels=['Attrited', 'Existing'])\n",
    "plt.ylabel(\"Total Transaction Amount\")\n",
    "plt.title(\"Total Transaction Amount by Churn Status\")\n",
    "plt.grid(axis='y', alpha=0.3)\n",
    "plt.show()"
   ]
  },
  {
   "cell_type": "markdown",
   "id": "987c67fb",
   "metadata": {},
   "source": [
    "#### 3️⃣ Total_Relationship_Count vs. Churn\n",
    "Hypothesis:\n",
    "\n",
    "H₀: Mean total relationship count is the same for churned and retained customers.\n",
    "\n",
    "H₁: Mean total relationship count differs between churned and retained customers."
   ]
  },
  {
   "cell_type": "code",
   "execution_count": null,
   "id": "3e1e7183",
   "metadata": {},
   "outputs": [
    {
     "name": "stdout",
     "output_type": "stream",
     "text": [
      "T-test t=-14.944, p=0.000000\n",
      "Mann-Whitney p=0.000000\n",
      "Cohen's d = -0.413\n"
     ]
    }
   ],
   "source": [
    "# --- Statistical Test ---\n",
    "\n",
    "col = 'Total_Relationship_Count'\n",
    "churned = df[df['Attrition_Flag']=='Attrited Customer'][col]\n",
    "retained = df[df['Attrition_Flag']=='Existing Customer'][col]\n",
    "\n",
    "t_stat, p_val = ttest_ind(churned, retained, equal_var=False)\n",
    "mw_stat, mw_p = mannwhitneyu(churned, retained, alternative='two-sided')\n",
    "d = cohens_d(churned, retained)\n",
    "\n",
    "print(f\"T-test t={t_stat:.3f}, p={p_val:.6f}\")\n",
    "print(f\"Mann-Whitney p={mw_p:.6f}\")\n",
    "print(f\"Cohen's d = {d:.3f}\")\n"
   ]
  },
  {
   "cell_type": "code",
   "execution_count": null,
   "id": "5ebaf1e7",
   "metadata": {},
   "outputs": [
    {
     "data": {
      "image/png": "[encoded data removed]",
      "text/plain": [
       "<Figure size 640x480 with 1 Axes>"
      ]
     },
     "metadata": {},
     "output_type": "display_data"
    }
   ],
   "source": [
    "# --- Matplotlib Visual ---\n",
    "\n",
    "plt.boxplot([churned, retained], labels=['Attrited', 'Existing'])\n",
    "plt.ylabel(\"Total Relationship Count\")\n",
    "plt.title(\"Total Relationship Count by Churn Status\")\n",
    "plt.grid(axis='y', alpha=0.3)\n",
    "plt.show()"
   ]
  },
  {
   "cell_type": "markdown",
   "id": "23f0bdf6",
   "metadata": {},
   "source": [
    "#### 4️⃣ Avg_Utilization_Ratio vs. Churn\n",
    "Hypothesis:\n",
    "\n",
    "H₀: Mean average utilization ratio is the same for churned and retained customers.\n",
    "\n",
    "H₁: Mean average utilization ratio differs between churned and retained customers."
   ]
  },
  {
   "cell_type": "code",
   "execution_count": 12,
   "id": "61e07d52",
   "metadata": {},
   "outputs": [
    {
     "name": "stdout",
     "output_type": "stream",
     "text": [
      "T-test t=-18.623, p=0.000000\n",
      "Mann-Whitney p=0.000000\n",
      "Cohen's d = -0.494\n"
     ]
    }
   ],
   "source": [
    "# --- Statistical Test ---\n",
    "\n",
    "col = 'Avg_Utilization_Ratio'\n",
    "if col not in df.columns:\n",
    "    col = [c for c in df.columns if 'Utilization' in c][0]\n",
    "\n",
    "churned = df[df['Attrition_Flag']=='Attrited Customer'][col]\n",
    "retained = df[df['Attrition_Flag']=='Existing Customer'][col]\n",
    "\n",
    "t_stat, p_val = ttest_ind(churned, retained, equal_var=False)\n",
    "mw_stat, mw_p = mannwhitneyu(churned, retained, alternative='two-sided')\n",
    "d = cohens_d(churned, retained)\n",
    "\n",
    "print(f\"T-test t={t_stat:.3f}, p={p_val:.6f}\")\n",
    "print(f\"Mann-Whitney p={mw_p:.6f}\")\n",
    "print(f\"Cohen's d = {d:.3f}\")\n"
   ]
  },
  {
   "cell_type": "markdown",
   "id": "b0977862",
   "metadata": {},
   "source": [
    "#### **Explanation of Test Results**\n",
    "\n",
    "The dataset contains:\n",
    "\n",
    "- Continuous variables (e.g., Customer_Age, Total_Trans_Ct, Credit_Limit)\n",
    "\n",
    "- Categorical variables (e.g., one-hot encoded Income_Category, Gender_M)\n",
    "\n",
    "- Target variable: Churn (0 = existing customer, 1 = attrited/churned)\n",
    "\n",
    "- Statistical tests were run to compare features between churned and non-churned customers."
   ]
  },
  {
   "cell_type": "markdown",
   "id": "bcb0666a",
   "metadata": {},
   "source": [
    "## Explanation of Test Results \n",
    "\n",
    "The dataset includes:  \n",
    "- **Continuous variables** → `Customer_Age`, `Total_Trans_Ct`, `Credit_Limit`  \n",
    "- **Categorical variables** → one-hot encoded `Income_Category`, `Gender_M`  \n",
    "- **Target variable** → `Churn` (`0` = existing customer, `1` = attrited/churned)  \n",
    "\n",
    "We compared features between churned and non-churned customers using statistical tests.\n",
    "\n",
    "---\n",
    "\n",
    "### 1️⃣ First T-test / Mann-Whitney / Cohen’s *d*\n",
    "- **Stats:** *t* = `-14.944`, **p** <span style=\"color:red;\">`0.000001`</span>, *d* = `-0.413`  \n",
    "- **Likely variable:** `Total_Trans_Ct` or `Months_on_book`  \n",
    "- **Result:** Significant difference — churned customers have **lower averages** (negative *t*/*d*).  \n",
    "- **Effect size:** <span style=\"color:orange;\">Small-to-medium</span>  \n",
    "- **Insight:** Lower transaction counts → less engagement → higher churn risk.\n",
    "\n",
    "---\n",
    "\n",
    "### 2️⃣ Chi-square Test\n",
    "- **Stats:** χ² = `10.990`, **p** <span style=\"color:red;\">`0.0267`</span>, df = `4`  \n",
    "- **Variable:** `Income_Category` (`<$40K`, `$40K-$60K`, `$60K-$80K`, `$80K-$120K`, `Unknown`)  \n",
    "- **Result:** Significant association between **income** and **churn**.  \n",
    "- **Insight:**  \n",
    "  - `<$40K`: **612 churned** vs. 2949 retained  \n",
    "  - `$80K-$120K`: **242 churned** vs. 1293 retained  \n",
    "  - **Lower income customers are more likely to churn**.\n",
    "\n",
    "---\n",
    "\n",
    "### 3️⃣ Second T-test / Mann-Whitney / Cohen’s *d*\n",
    "- **Stats:** *t* = `-22.686`, **p** <span style=\"color:red;\">`0.000001`</span>, *d* = `-0.466`  \n",
    "- **Likely variable:** `Total_Trans_Amt` or `Credit_Limit`  \n",
    "- **Result:** Extremely significant — churned customers have **much lower averages**.  \n",
    "- **Effect size:** <span style=\"color:orange;\">Medium</span>  \n",
    "- **Insight:** **Lower transaction amounts strongly predict churn**.\n",
    "\n",
    "---\n",
    "\n",
    "✅ **Overall takeaway:** Customers with **lower transactions, lower amounts, and lower income** are at **higher risk of churn**.\n"
   ]
  }
 ],
 "metadata": {
  "kernelspec": {
   "display_name": ".venv (3.12.8)",
   "language": "python",
   "name": "python3"
  },
  "language_info": {
   "codemirror_mode": {
    "name": "ipython",
    "version": 3
   },
   "file_extension": ".py",
   "mimetype": "text/x-python",
   "name": "python",
   "nbconvert_exporter": "python",
   "pygments_lexer": "ipython3",
   "version": "3.12.8"
  }
 },
 "nbformat": 4,
 "nbformat_minor": 5
}
